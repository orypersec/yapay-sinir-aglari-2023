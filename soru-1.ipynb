{
 "cells": [
  {
   "cell_type": "code",
   "execution_count": 2,
   "metadata": {},
   "outputs": [
    {
     "name": "stdout",
     "output_type": "stream",
     "text": [
      "tensor([[0.5543],\n",
      "        [0.2265]])\n"
     ]
    }
   ],
   "source": [
    "import torch\n",
    "\n",
    "# Burada sigmoid fonksiyonunu tanimliyoruz\n",
    "def sigmoid(x):\n",
    "    return 1 / (1 + torch.exp(-x))\n",
    "\n",
    "# Burada hiperbolik tanjant fonksiyonunu tanimliyoruz\n",
    "def tanh(x):\n",
    "    return (torch.exp(x) - torch.exp(-x)) / (torch.exp(x) + torch.exp(-x))    \n",
    "\n",
    "# Bize verilen degerleri tensor haline getiriyoruz\n",
    "x = torch.tensor([[0.1,0.2,0.3],[0.4,0.5,0.6]])\n",
    "\n",
    "# Sabit degerler icin seed belirliyoruz\n",
    "torch.manual_seed(1)\n",
    "\n",
    "# Birinci gizli katmanin agirliklarini ve biaslarini olusturuyoruz\n",
    "hidden_weight = torch.randn(3,50)\n",
    "hidden_bias = torch.randn(1,50)\n",
    "\n",
    "# Output katmanini agirliklarini ve biaslarini olusturuyoruz\n",
    "output_weight = torch.randn(50,1)\n",
    "output_bias = torch.randn(1,1)\n",
    "\n",
    "# Gizli katmani hesapliyoruz\n",
    "hidden_layer = tanh(torch.matmul(x, hidden_weight) + hidden_bias)\n",
    "\n",
    "# Output katmanini hesapliyoruz\n",
    "output_layer = sigmoid(torch.matmul(hidden_layer, output_weight) + output_bias)\n",
    "\n",
    "print(output_layer)"
   ]
  },
  {
   "cell_type": "code",
   "execution_count": 3,
   "metadata": {},
   "outputs": [
    {
     "name": "stdout",
     "output_type": "stream",
     "text": [
      "tensor([[0.9652],\n",
      "        [0.8986]])\n"
     ]
    }
   ],
   "source": [
    "import torch\n",
    "\n",
    "# Burada sigmoid fonksiyonunu tanimliyoruz\n",
    "def sigmoid(x):\n",
    "    return 1 / (1 + torch.exp(-x))\n",
    "\n",
    "# Burada hiperbolik tanjant fonksiyonunu tanimliyoruz\n",
    "def tanh(x):\n",
    "    return (torch.exp(x) - torch.exp(-x)) / (torch.exp(x) + torch.exp(-x))    \n",
    "\n",
    "# Bize verilen degerleri tensor haline getiriyoruz\n",
    "x = torch.tensor([[0.1,0.2,0.3],[0.4,0.5,0.6]])\n",
    "\n",
    "# Sabit degerler icin seed belirliyoruz\n",
    "torch.manual_seed(190401055)\n",
    "\n",
    "# Birinci gizli katmanin agirliklarini ve biaslarini olusturuyoruz\n",
    "hidden_weight = torch.randn(3,50)\n",
    "hidden_bias = torch.randn(1,50)\n",
    "\n",
    "# Output katmanini agirliklarini ve biaslarini olusturuyoruz\n",
    "output_weight = torch.randn(50,1)\n",
    "output_bias = torch.randn(1,1)\n",
    "\n",
    "# Gizli katmani hesapliyoruz\n",
    "hidden_layer = tanh(torch.matmul(x, hidden_weight) + hidden_bias)\n",
    "\n",
    "# Output katmanini hesapliyoruz\n",
    "output_layer = sigmoid(torch.matmul(hidden_layer, output_weight) + output_bias)\n",
    "\n",
    "print(output_layer)"
   ]
  }
 ],
 "metadata": {
  "kernelspec": {
   "display_name": "Python 3",
   "language": "python",
   "name": "python3"
  },
  "language_info": {
   "codemirror_mode": {
    "name": "ipython",
    "version": 3
   },
   "file_extension": ".py",
   "mimetype": "text/x-python",
   "name": "python",
   "nbconvert_exporter": "python",
   "pygments_lexer": "ipython3",
   "version": "3.10.6"
  },
  "orig_nbformat": 4
 },
 "nbformat": 4,
 "nbformat_minor": 2
}
