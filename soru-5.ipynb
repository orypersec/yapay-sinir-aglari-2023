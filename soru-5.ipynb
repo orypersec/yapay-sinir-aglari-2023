{
 "cells": [
  {
   "attachments": {},
   "cell_type": "markdown",
   "metadata": {},
   "source": [
    "Alttaki kodda bize verilen verisetini pandas ile okuyoruz."
   ]
  },
  {
   "cell_type": "code",
   "execution_count": 37,
   "metadata": {},
   "outputs": [],
   "source": [
    "import pandas as pd\n",
    "\n",
    "train_data = pd.read_csv('cure_the_princess_train.csv')\n",
    "val_data = pd.read_csv('cure_the_princess_validation.csv')\n",
    "test_data = pd.read_csv('cure_the_princess_test.csv')"
   ]
  },
  {
   "attachments": {},
   "cell_type": "markdown",
   "metadata": {},
   "source": [
    "Alttaki kodda ise önceden okuduğumuz verisetini numpy ile okuyoruz üzerinde işlem yapabilmek için."
   ]
  },
  {
   "cell_type": "code",
   "execution_count": 38,
   "metadata": {},
   "outputs": [],
   "source": [
    "import numpy as np\n",
    "\n",
    "train_data_np = train_data.to_numpy()\n",
    "val_data_np = val_data.to_numpy()\n",
    "test_data_np = test_data.to_numpy()"
   ]
  },
  {
   "attachments": {},
   "cell_type": "markdown",
   "metadata": {},
   "source": [
    "GPU kullanabilmesi için bütün verileri device ile gpu'ya aktarıyoruz.\n",
    "En son sütundaki cured değerini labellara aktarıyoruz.\n",
    "İlk 13 sütundaki değerleri ise inputlara aktarıyoruz."
   ]
  },
  {
   "cell_type": "code",
   "execution_count": 39,
   "metadata": {},
   "outputs": [
    {
     "name": "stdout",
     "output_type": "stream",
     "text": [
      "cuda:0\n"
     ]
    }
   ],
   "source": [
    "import torch\n",
    "\n",
    "device = torch.device(\"cuda:0\" if torch.cuda.is_available() else \"cpu\")\n",
    "#device = torch.device(\"cpu\")\n",
    "print(device)\n",
    "\n",
    "train_inputs = torch.from_numpy(train_data_np[:, :13]).float().to(device)\n",
    "train_labels = torch.from_numpy(train_data_np[:, 13]).long().to(device)\n",
    "\n",
    "val_inputs = torch.from_numpy(val_data_np[:, :13]).float().to(device)\n",
    "val_labels = torch.from_numpy(val_data_np[:, 13]).long().to(device)\n",
    "\n",
    "test_inputs = torch.from_numpy(test_data_np[:, :13]).float().to(device)\n",
    "test_labels = torch.from_numpy(test_data_np[:, 13]).long().to(device)\n"
   ]
  },
  {
   "attachments": {},
   "cell_type": "markdown",
   "metadata": {},
   "source": [
    "Alttaki kodda input ve label verilerimizi dataloader ile yüklüyoruz. Batch size 16 bizim için ideal."
   ]
  },
  {
   "cell_type": "code",
   "execution_count": 40,
   "metadata": {},
   "outputs": [],
   "source": [
    "from torch.utils.data import TensorDataset, DataLoader\n",
    "\n",
    "train_dataset = TensorDataset(train_inputs, train_labels)\n",
    "val_dataset = TensorDataset(val_inputs, val_labels)\n",
    "test_dataset = TensorDataset(test_inputs, test_labels)\n",
    "\n",
    "batch_size = 16\n",
    "\n",
    "train_dataloader = DataLoader(train_dataset, batch_size=batch_size, shuffle=False)\n",
    "val_dataloader = DataLoader(val_dataset, batch_size=batch_size, shuffle=False)\n",
    "test_dataloader = DataLoader(test_dataset, batch_size=batch_size, shuffle=False)\n"
   ]
  },
  {
   "attachments": {},
   "cell_type": "markdown",
   "metadata": {},
   "source": [
    "Burada Multi Layer Perceptron sınıfını oluşturduk. Manual seed içine öğrenci numaramı koydum.\n",
    "Burada ilk hidden layerda 100 nöron var.\n",
    "İkinci hidden layerda 50 nöron var.\n",
    "Output layerda ise 1 nöron var, cured değerinin çıktı olması için.\n",
    "\n",
    "Hidden layerlarda Relu fonksiyonu kullandık.\n",
    "Output layerda ise sigmoid kullandık.\n",
    "\n",
    "Sonrasında Binary Cross Entropy Loss kullandık çünkü çıktımız bir binary değer.\n",
    "Learning rate olarak 0.001 verdim bu değerde iyi bir grafik çıkıyor."
   ]
  },
  {
   "cell_type": "code",
   "execution_count": 41,
   "metadata": {},
   "outputs": [],
   "source": [
    "import torch.nn as nn\n",
    "\n",
    "torch.manual_seed(190401055)\n",
    "\n",
    "class MLP(nn.Module):\n",
    "    def __init__(self):\n",
    "        super(MLP, self).__init__()\n",
    "        self.hidden_layer_1 = nn.Linear(13, 100)\n",
    "        self.hidden_layer_2 = nn.Linear(100, 50)\n",
    "        self.output_layer = nn.Linear(50, 1)\n",
    "        self.relu = nn.ReLU()\n",
    "        self.sigmoid = nn.Sigmoid()\n",
    "\n",
    "    def forward(self, x):\n",
    "        x = self.relu(self.hidden_layer_1(x))\n",
    "        x = self.relu(self.hidden_layer_2(x))\n",
    "        x = self.sigmoid(self.output_layer(x))\n",
    "        return x\n",
    "\n",
    "model = MLP().to(device)\n",
    "criterion = nn.BCELoss()\n",
    "optimizer = torch.optim.SGD(model.parameters(), lr=0.001)"
   ]
  },
  {
   "attachments": {},
   "cell_type": "markdown",
   "metadata": {},
   "source": [
    "Altta modelimizi eğitiyoruz. Epoch olarak 2000 verdim. \n",
    "Patience değeri olarak ise 25 verdim.\n",
    "Sonrasında en iyi modeli kaydediyoruz."
   ]
  },
  {
   "cell_type": "code",
   "execution_count": 42,
   "metadata": {},
   "outputs": [
    {
     "name": "stdout",
     "output_type": "stream",
     "text": [
      "Epoch 50/2000, Train Loss: 0.2191, Val Loss: 0.2020, Patience: 0\n",
      "Epoch 100/2000, Train Loss: 0.1557, Val Loss: 0.1628, Patience: 1\n",
      "Epoch 150/2000, Train Loss: 0.1203, Val Loss: 0.1420, Patience: 0\n",
      "Epoch 200/2000, Train Loss: 0.0952, Val Loss: 0.1355, Patience: 3\n",
      "Early stopping after 222 epochs\n"
     ]
    }
   ],
   "source": [
    "train_losses = []\n",
    "val_losses = []\n",
    "num_epochs = 2000\n",
    "patience = 25\n",
    "best_val_loss = np.inf\n",
    "patience_counter = 0\n",
    "best_model = None\n",
    "\n",
    "for epoch in range(num_epochs):\n",
    "    train_loss = 0.0\n",
    "    model.train()\n",
    "    for inputs, labels in train_dataloader:\n",
    "        optimizer.zero_grad()\n",
    "        outputs = model(inputs)\n",
    "        loss = criterion(outputs, labels.unsqueeze(1).float())\n",
    "        loss.backward()\n",
    "        optimizer.step()\n",
    "        train_loss += loss.item() * inputs.size(0)\n",
    "    train_loss /= len(train_dataloader.dataset)\n",
    "    train_losses.append(train_loss)\n",
    "    \n",
    "    val_loss = 0.0\n",
    "    model.eval()\n",
    "    with torch.no_grad():\n",
    "        for inputs, labels in val_dataloader:\n",
    "            outputs = model(inputs)\n",
    "            loss = criterion(outputs, labels.unsqueeze(1).float())\n",
    "            val_loss += loss.item() * inputs.size(0)\n",
    "        val_loss /= len(val_dataloader.dataset)\n",
    "        val_losses.append(val_loss)\n",
    "        if val_loss < best_val_loss:\n",
    "            best_val_loss = val_loss\n",
    "            best_model = model.state_dict()\n",
    "            patience_counter = 0\n",
    "        else:\n",
    "            patience_counter += 1\n",
    "            if patience_counter >= patience:\n",
    "                print(f'Early stopping after {epoch + 1} epochs')\n",
    "                break\n",
    "    if (epoch+1) % 50 == 0:\n",
    "        print(f'Epoch {epoch+1}/{num_epochs}, Train Loss: {train_loss:.4f}, Val Loss: {val_loss:.4f}, Patience: {patience_counter}')\n",
    "\n",
    "torch.save(best_model, 'soru5_model.pt')\n"
   ]
  },
  {
   "attachments": {},
   "cell_type": "markdown",
   "metadata": {},
   "source": [
    "Oluşturduğumuz verinin grafiğini seaborn ile oluşturuyoruz."
   ]
  },
  {
   "cell_type": "code",
   "execution_count": 43,
   "metadata": {},
   "outputs": [
    {
     "data": {
      "image/png": "[encoded data removed]",
      "text/plain": [
       "<Figure size 640x480 with 1 Axes>"
      ]
     },
     "metadata": {},
     "output_type": "display_data"
    }
   ],
   "source": [
    "import seaborn as sns\n",
    "import matplotlib.pyplot as plt\n",
    "\n",
    "sns.set_style('darkgrid')\n",
    "plt.plot(train_losses, label='Train Loss')\n",
    "plt.plot(val_losses, label='Val Loss')\n",
    "plt.xlabel('Epoch')\n",
    "plt.ylabel('Loss')\n",
    "plt.legend()\n",
    "plt.show()\n"
   ]
  },
  {
   "attachments": {},
   "cell_type": "markdown",
   "metadata": {},
   "source": [
    "Burada sklearn kütüphanesi ile modelimizin accuracy, f1, precision ve recall değerlerini hesaplıyoruz."
   ]
  },
  {
   "cell_type": "code",
   "execution_count": 44,
   "metadata": {},
   "outputs": [
    {
     "name": "stdout",
     "output_type": "stream",
     "text": [
      "Accuracy: 0.9443\n",
      "F1 score: 0.9436\n",
      "Precision: 0.9600\n",
      "Recall: 0.9278\n"
     ]
    }
   ],
   "source": [
    "def accuracy(y_true, y_pred):\n",
    "    correct = 0\n",
    "    for i in range(len(y_true)):\n",
    "        if y_true[i] == y_pred[i]:\n",
    "            correct += 1\n",
    "    return correct / len(y_true)\n",
    "\n",
    "def precision(y_true, y_pred):\n",
    "    true_positives = 0\n",
    "    false_positives = 0\n",
    "    for i in range(len(y_true)):\n",
    "        if y_true[i] == 1 and y_pred[i] == 1:\n",
    "            true_positives += 1\n",
    "        elif y_true[i] == 0 and y_pred[i] == 1:\n",
    "            false_positives += 1\n",
    "    if true_positives + false_positives == 0:\n",
    "        return 0\n",
    "    else:\n",
    "        return true_positives / (true_positives + false_positives)\n",
    "\n",
    "def recall(y_true, y_pred):\n",
    "    true_positives = 0\n",
    "    false_negatives = 0\n",
    "    for i in range(len(y_true)):\n",
    "        if y_true[i] == 1 and y_pred[i] == 1:\n",
    "            true_positives += 1\n",
    "        elif y_true[i] == 1 and y_pred[i] == 0:\n",
    "            false_negatives += 1\n",
    "    if true_positives + false_negatives == 0:\n",
    "        return 0\n",
    "    else:\n",
    "        return true_positives / (true_positives + false_negatives)\n",
    "\n",
    "def f1_score(y_true, y_pred):\n",
    "    prec = precision(y_true, y_pred)\n",
    "    rec = recall(y_true, y_pred)\n",
    "    if prec + rec == 0:\n",
    "        return 0\n",
    "    else:\n",
    "        return 2 * (prec * rec) / (prec + rec)\n",
    "\n",
    "test_predictions = []\n",
    "test_labels = []\n",
    "model.eval()\n",
    "with torch.no_grad():\n",
    "    for inputs, labels in test_dataloader:\n",
    "        outputs = model(inputs)\n",
    "        predicted = torch.round(outputs)\n",
    "        test_predictions.extend(predicted.detach().cpu().numpy())\n",
    "        test_labels.extend(labels.detach().cpu().numpy())\n",
    "\n",
    "accuracy = accuracy(test_labels, test_predictions)\n",
    "f1 = f1_score(test_labels, test_predictions)\n",
    "precision = precision(test_labels, test_predictions)\n",
    "recall = recall(test_labels, test_predictions)\n",
    "\n",
    "print(f'Accuracy: {accuracy:.4f}')\n",
    "print(f'F1 score: {f1:.4f}')\n",
    "print(f'Precision: {precision:.4f}')\n",
    "print(f'Recall: {recall:.4f}')\n"
   ]
  },
  {
   "attachments": {},
   "cell_type": "markdown",
   "metadata": {},
   "source": [
    "Alttaki kodda modelin overfit etmesi için early stopping kodunu kaldırdım."
   ]
  },
  {
   "cell_type": "code",
   "execution_count": 45,
   "metadata": {},
   "outputs": [
    {
     "name": "stdout",
     "output_type": "stream",
     "text": [
      "Epoch 100/2000, Train Loss: 0.1557, Val Loss: 0.1628\n",
      "Epoch 200/2000, Train Loss: 0.0952, Val Loss: 0.1355\n",
      "Epoch 300/2000, Train Loss: 0.0641, Val Loss: 0.1454\n",
      "Epoch 400/2000, Train Loss: 0.0458, Val Loss: 0.1637\n",
      "Epoch 500/2000, Train Loss: 0.0339, Val Loss: 0.1833\n",
      "Epoch 600/2000, Train Loss: 0.0258, Val Loss: 0.2027\n",
      "Epoch 700/2000, Train Loss: 0.0204, Val Loss: 0.2177\n",
      "Epoch 800/2000, Train Loss: 0.0163, Val Loss: 0.2340\n",
      "Epoch 900/2000, Train Loss: 0.0134, Val Loss: 0.2468\n",
      "Epoch 1000/2000, Train Loss: 0.0111, Val Loss: 0.2596\n",
      "Epoch 1100/2000, Train Loss: 0.0094, Val Loss: 0.2701\n",
      "Epoch 1200/2000, Train Loss: 0.0080, Val Loss: 0.2806\n",
      "Epoch 1300/2000, Train Loss: 0.0069, Val Loss: 0.2895\n",
      "Epoch 1400/2000, Train Loss: 0.0059, Val Loss: 0.2964\n",
      "Epoch 1500/2000, Train Loss: 0.0052, Val Loss: 0.3030\n",
      "Epoch 1600/2000, Train Loss: 0.0044, Val Loss: 0.3103\n",
      "Epoch 1700/2000, Train Loss: 0.0039, Val Loss: 0.3163\n",
      "Epoch 1800/2000, Train Loss: 0.0034, Val Loss: 0.3226\n",
      "Epoch 1900/2000, Train Loss: 0.0031, Val Loss: 0.3282\n",
      "Epoch 2000/2000, Train Loss: 0.0028, Val Loss: 0.3327\n"
     ]
    },
    {
     "data": {
      "image/png": "[encoded data removed]",
      "text/plain": [
       "<Figure size 640x480 with 1 Axes>"
      ]
     },
     "metadata": {},
     "output_type": "display_data"
    }
   ],
   "source": [
    "import torch.nn as nn\n",
    "\n",
    "torch.manual_seed(190401055)\n",
    "\n",
    "class MLP(nn.Module):\n",
    "    def __init__(self):\n",
    "        super(MLP, self).__init__()\n",
    "        self.hidden_layer_1 = nn.Linear(13, 100)\n",
    "        self.hidden_layer_2 = nn.Linear(100, 50)\n",
    "        self.output_layer = nn.Linear(50, 1)\n",
    "        self.relu = nn.ReLU()\n",
    "        self.sigmoid = nn.Sigmoid()\n",
    "\n",
    "    def forward(self, x):\n",
    "        x = self.relu(self.hidden_layer_1(x))\n",
    "        x = self.relu(self.hidden_layer_2(x))\n",
    "        x = self.sigmoid(self.output_layer(x))\n",
    "        return x\n",
    "\n",
    "model = MLP().to(device)\n",
    "criterion = nn.BCELoss()\n",
    "optimizer = torch.optim.SGD(model.parameters(), lr=0.001)\n",
    "\n",
    "train_losses = []\n",
    "val_losses = []\n",
    "num_epochs = 2000\n",
    "best_val_loss = np.inf\n",
    "\n",
    "for epoch in range(num_epochs):\n",
    "    train_loss = 0.0\n",
    "    model.train()\n",
    "    for inputs, labels in train_dataloader:\n",
    "        optimizer.zero_grad()\n",
    "        outputs = model(inputs)\n",
    "        loss = criterion(outputs, labels.unsqueeze(1).float())\n",
    "        loss.backward()\n",
    "        optimizer.step()\n",
    "        train_loss += loss.item() * inputs.size(0)\n",
    "    train_loss /= len(train_dataloader.dataset)\n",
    "    train_losses.append(train_loss)\n",
    "    \n",
    "    val_loss = 0.0\n",
    "    model.eval()\n",
    "    with torch.no_grad():\n",
    "        for inputs, labels in val_dataloader:\n",
    "            outputs = model(inputs)\n",
    "            loss = criterion(outputs, labels.unsqueeze(1).float())\n",
    "            val_loss += loss.item() * inputs.size(0)\n",
    "        val_loss /= len(val_dataloader.dataset)\n",
    "        val_losses.append(val_loss)\n",
    "\n",
    "    # every 100 epochs, print the loss\n",
    "    if (epoch + 1) % 100 == 0:\n",
    "        print(f'Epoch {epoch+1}/{num_epochs}, Train Loss: {train_loss:.4f}, Val Loss: {val_loss:.4f}')\n",
    "\n",
    "torch.save(model.state_dict(), \"soru5_overfit.pt\")\n",
    "\n",
    "import seaborn as sns\n",
    "import matplotlib.pyplot as plt\n",
    "\n",
    "sns.set_style('darkgrid')\n",
    "plt.plot(train_losses, label='Train Loss')\n",
    "plt.plot(val_losses, label='Val Loss')\n",
    "plt.xlabel('Epoch')\n",
    "plt.ylabel('Loss')\n",
    "plt.legend()\n",
    "plt.show()\n",
    "\n"
   ]
  }
 ],
 "metadata": {
  "kernelspec": {
   "display_name": "Python 3",
   "language": "python",
   "name": "python3"
  },
  "language_info": {
   "codemirror_mode": {
    "name": "ipython",
    "version": 3
   },
   "file_extension": ".py",
   "mimetype": "text/x-python",
   "name": "python",
   "nbconvert_exporter": "python",
   "pygments_lexer": "ipython3",
   "version": "3.10.6"
  },
  "orig_nbformat": 4
 },
 "nbformat": 4,
 "nbformat_minor": 2
}
